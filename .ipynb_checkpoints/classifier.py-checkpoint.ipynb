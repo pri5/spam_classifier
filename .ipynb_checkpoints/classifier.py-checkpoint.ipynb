{
 "cells": [
  {
   "cell_type": "code",
   "execution_count": 24,
   "metadata": {},
   "outputs": [],
   "source": [
    "import os # import neccessary library for file reading\n",
    "from collections import Counter# and word counting"
   ]
  },
  {
   "cell_type": "code",
   "execution_count": 37,
   "metadata": {},
   "outputs": [],
   "source": [
    "# create dict function to store all words from emails with frequency of their occurrence\n",
    "def make_dict(): \n",
    "    direc = \"emails/\"\n",
    "    files = os.listdir(direc)\n",
    "    emails = [direc + email for email in files]\n",
    "    words = []\n",
    "    c = len(emails)\n",
    "    for email in emails:\n",
    "        with open(email, encoding = \"ISO-8859-1\") as f:\n",
    "            text = f.read()\n",
    "        words += text.split(\" \")\n",
    "        print (c)\n",
    "        c -= 1\n",
    "        \n",
    "    for i in range(len(words)):\n",
    "        if words[i].isalpha() == False: # find all non-aphabete words which are irrelevant here\n",
    "            words[i] = \"\"\n",
    "        elif len(words[i]) == 1:         # words of single length \n",
    "            words[i] = \"\"\n",
    "    \n",
    "    dictionary = Counter(words)\n",
    "    del dictionary[\"\"]                  # delete all words from dic which are irrelevant\n",
    "    return dictionary.most_common(20)    # and does not contribute to feature sets."
   ]
  },
  {
   "cell_type": "code",
   "execution_count": 38,
   "metadata": {},
   "outputs": [
    {
     "name": "stdout",
     "output_type": "stream",
     "text": [
      "4\n",
      "3\n",
      "2\n",
      "1\n"
     ]
    },
    {
     "data": {
      "text/plain": [
       "[('hours', 17),\n",
       " ('ect', 12),\n",
       " ('hou', 10),\n",
       " ('and', 8),\n",
       " ('to', 6),\n",
       " ('vastar', 6),\n",
       " ('on', 6),\n",
       " ('the', 5),\n",
       " ('george', 5),\n",
       " ('weissman', 5),\n",
       " ('linda', 5),\n",
       " ('of', 4),\n",
       " ('resources', 4),\n",
       " ('inc', 4),\n",
       " ('for', 4),\n",
       " ('your', 4),\n",
       " ('get', 3),\n",
       " ('that', 3),\n",
       " ('production', 3),\n",
       " ('at', 3)]"
      ]
     },
     "execution_count": 38,
     "metadata": {},
     "output_type": "execute_result"
    }
   ],
   "source": [
    "make_dict()"
   ]
  },
  {
   "cell_type": "code",
   "execution_count": 27,
   "metadata": {},
   "outputs": [],
   "source": [
    "# creat function for features and labels to store the data in digits.\n",
    "def make_dataset(dictionary):\n",
    "    direc = \"emails/\"\n",
    "    files = os.listdir(direc)\n",
    "    emails = [direc + email for email in files]\n",
    "    feature_set = []\n",
    "    labels = []\n",
    "    c = len(emails)\n",
    "\n",
    "    for email in emails:\n",
    "        data = []\n",
    "        with open(email, encoding = \"ISO-8859-1\") as f:\n",
    "            words = f.read().split(' ')\n",
    "        print(\"\\nim printing words here\",words)\n",
    "        for entry in dictionary:\n",
    "            data.append(words.count(entry[0]))\n",
    "            #print(words.count(entry[0]))\n",
    "        feature_set.append(data)\n",
    "       print(\"this is frature_sets \\n\",feature_set)\n",
    "        if \"ham\" in email:\n",
    "            labels.append(0)\n",
    "        if \"spam\" in email:\n",
    "            labels.append(1)\n",
    "        print (c)\n",
    "\t#print(feature_set)\n",
    "        c = c - 1\n",
    "        \n",
    "    \n",
    "    #print(\"this is labels \\n\",labels)\n",
    "    return feature_set, labels"
   ]
  },
  {
   "cell_type": "code",
   "execution_count": 28,
   "metadata": {},
   "outputs": [
    {
     "name": "stdout",
     "output_type": "stream",
     "text": [
      "4\n",
      "3\n",
      "2\n",
      "1\n",
      "4\n",
      "3\n",
      "2\n",
      "1\n"
     ]
    }
   ],
   "source": [
    "d = make_dict()\n",
    "#features, labels = make_dataset(d)"
   ]
  },
  {
   "cell_type": "code",
   "execution_count": 29,
   "metadata": {},
   "outputs": [],
   "source": [
    "#import model_selection to split the datasets into train and test sets\n",
    "from sklearn.model_selection import train_test_split as tts\n",
    "x_train, x_test, y_train, y_test = tts(features, labels, test_size=0.2) # 80% data is used to train and 20 % for testing"
   ]
  },
  {
   "cell_type": "code",
   "execution_count": 30,
   "metadata": {},
   "outputs": [
    {
     "data": {
      "text/plain": [
       "MultinomialNB(alpha=1.0, class_prior=None, fit_prior=True)"
      ]
     },
     "execution_count": 30,
     "metadata": {},
     "output_type": "execute_result"
    }
   ],
   "source": [
    "# training the model with classifier\n",
    "from sklearn.naive_bayes import MultinomialNB\n",
    "clf = MultinomialNB()\n",
    "clf.fit(x_train, y_train)"
   ]
  },
  {
   "cell_type": "code",
   "execution_count": 31,
   "metadata": {},
   "outputs": [
    {
     "name": "stdout",
     "output_type": "stream",
     "text": [
      "1.0\n"
     ]
    }
   ],
   "source": [
    "# Predicting the accuracy of the classifier user in the model\n",
    "from sklearn.metrics import accuracy_score\n",
    "preds = clf.predict(x_test)\n",
    "print (accuracy_score(y_test, preds))"
   ]
  },
  {
   "cell_type": "code",
   "execution_count": 32,
   "metadata": {},
   "outputs": [
    {
     "name": "stdout",
     "output_type": "stream",
     "text": [
      ">\n"
     ]
    },
    {
     "ename": "IndexError",
     "evalue": "list index out of range",
     "output_type": "error",
     "traceback": [
      "\u001b[0;31m---------------------------------------------------------------------------\u001b[0m",
      "\u001b[0;31mIndexError\u001b[0m                                Traceback (most recent call last)",
      "\u001b[0;32m<ipython-input-32-55fb4a2149c8>\u001b[0m in \u001b[0;36m<module>\u001b[0;34m()\u001b[0m\n\u001b[1;32m      2\u001b[0m     \u001b[0mfeatures\u001b[0m \u001b[0;34m=\u001b[0m \u001b[0;34m[\u001b[0m\u001b[0;34m]\u001b[0m\u001b[0;34m\u001b[0m\u001b[0m\n\u001b[1;32m      3\u001b[0m     \u001b[0minp\u001b[0m \u001b[0;34m=\u001b[0m \u001b[0minput\u001b[0m\u001b[0;34m(\u001b[0m\u001b[0;34m\">\"\u001b[0m\u001b[0;34m)\u001b[0m\u001b[0;34m.\u001b[0m\u001b[0msplit\u001b[0m\u001b[0;34m(\u001b[0m\u001b[0;34m)\u001b[0m\u001b[0;34m\u001b[0m\u001b[0m\n\u001b[0;32m----> 4\u001b[0;31m     \u001b[0;32mif\u001b[0m \u001b[0minp\u001b[0m\u001b[0;34m[\u001b[0m\u001b[0;36m0\u001b[0m\u001b[0;34m]\u001b[0m \u001b[0;34m==\u001b[0m \u001b[0;34m\"exit\"\u001b[0m\u001b[0;34m:\u001b[0m\u001b[0;34m\u001b[0m\u001b[0m\n\u001b[0m\u001b[1;32m      5\u001b[0m         \u001b[0;32mbreak\u001b[0m\u001b[0;34m\u001b[0m\u001b[0m\n\u001b[1;32m      6\u001b[0m     \u001b[0;32mfor\u001b[0m \u001b[0mword\u001b[0m \u001b[0;32min\u001b[0m \u001b[0md\u001b[0m\u001b[0;34m:\u001b[0m\u001b[0;34m\u001b[0m\u001b[0m\n",
      "\u001b[0;31mIndexError\u001b[0m: list index out of range"
     ]
    }
   ],
   "source": [
    "while True:\n",
    "    features = []\n",
    "    inp = input(\">\").split()\n",
    "    if inp[0] == \"exit\":\n",
    "        break\n",
    "    for word in d:\n",
    "        features.append(inp.count(word[0]))\n",
    "    res = clf.predict([features])\n",
    "    print ([\"Not Spam\", \"Spam!\"][res[0]])"
   ]
  },
  {
   "cell_type": "code",
   "execution_count": null,
   "metadata": {},
   "outputs": [],
   "source": []
  },
  {
   "cell_type": "code",
   "execution_count": null,
   "metadata": {},
   "outputs": [],
   "source": []
  }
 ],
 "metadata": {
  "kernelspec": {
   "display_name": "Python 3",
   "language": "python",
   "name": "python3"
  },
  "language_info": {
   "codemirror_mode": {
    "name": "ipython",
    "version": 3
   },
   "file_extension": ".py",
   "mimetype": "text/x-python",
   "name": "python",
   "nbconvert_exporter": "python",
   "pygments_lexer": "ipython3",
   "version": "3.6.5"
  }
 },
 "nbformat": 4,
 "nbformat_minor": 2
}
